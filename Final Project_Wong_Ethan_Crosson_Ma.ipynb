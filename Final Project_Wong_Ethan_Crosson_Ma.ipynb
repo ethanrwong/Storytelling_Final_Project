{
 "cells": [
  {
   "cell_type": "markdown",
   "metadata": {},
   "source": [
    "# Import Libraries and Data"
   ]
  },
  {
   "cell_type": "code",
   "execution_count": 115,
   "metadata": {},
   "outputs": [],
   "source": [
    "#!pip install geopandas"
   ]
  },
  {
   "cell_type": "code",
   "execution_count": 116,
   "metadata": {},
   "outputs": [],
   "source": [
    "import pandas as pd\n",
    "import geopandas as gpd # type: ignore\n",
    "import plotly.express as px\n",
    "import plotly.graph_objects as go\n",
    "import regex as re"
   ]
  },
  {
   "cell_type": "code",
   "execution_count": 117,
   "metadata": {},
   "outputs": [],
   "source": [
    "# Read in the data\n",
    "df1 = pd.read_csv('Wildfire Data.csv', dtype={'Battalion': str, 'Fire Name (Secondary)': str, 'APN (parcel)': str})\n",
    "df2 = gpd.read_file('Postfire_Master_Data_Share.geojson')"
   ]
  },
  {
   "cell_type": "code",
   "execution_count": 118,
   "metadata": {},
   "outputs": [
    {
     "data": {
      "text/plain": [
       "['Damage',\n",
       " 'Street Number',\n",
       " 'Street Name',\n",
       " 'Street Type',\n",
       " 'Street Suffix',\n",
       " 'City',\n",
       " 'State',\n",
       " 'Zip Code',\n",
       " 'CAL FIRE Unit',\n",
       " 'County',\n",
       " 'Community',\n",
       " 'Battalion',\n",
       " 'Incident Name',\n",
       " 'Incident Number',\n",
       " 'Incident Start Date',\n",
       " 'Hazard Type',\n",
       " 'Fire Start Location',\n",
       " 'Fire Cause',\n",
       " 'Structure Defense Actions Taken',\n",
       " 'Structure Type',\n",
       " 'Structure Category',\n",
       " '# Units in Structure',\n",
       " '# of Damaged Outbuildings < 120 SQFT',\n",
       " '# of Non Damaged Outbuildings < 120 SQFT',\n",
       " 'Roof Construction',\n",
       " 'Eaves',\n",
       " 'Vent Screen',\n",
       " 'Exterior Siding',\n",
       " 'Window Pane',\n",
       " 'Deck/Porch On Grade',\n",
       " 'Deck/Porch Elevated',\n",
       " 'Patio Cover/Carport Attached to Structure',\n",
       " 'Fence Attached to Structure',\n",
       " 'Distance - Propane Tank to Structure',\n",
       " 'Distance - Residence to Utility/Misc Structure &gt; 120 SQFT',\n",
       " 'Fire Name',\n",
       " 'APN',\n",
       " 'Assessed Improved Value',\n",
       " 'Year Built',\n",
       " 'Site Address',\n",
       " 'GLOBALID',\n",
       " 'Latitude',\n",
       " 'Longitude',\n",
       " 'x',\n",
       " 'y']"
      ]
     },
     "execution_count": 118,
     "metadata": {},
     "output_type": "execute_result"
    }
   ],
   "source": [
    "# Preprocess Columns in DF1\n",
    "\n",
    "# Strip * and then leading spaces from start of column names\n",
    "df1.columns = df1.columns.str.lstrip('*').str.lstrip()\n",
    "\n",
    "# Drop ID columns since Pandas will add its own\n",
    "df1.drop(columns=['_id','OBJECTID'], inplace=True)\n",
    "\n",
    "# Remove parentheses (and text inside) from column names\n",
    "df1.columns = df1.columns.str.replace(r\"\\(.*\\)\", \"\", regex=True).str.strip()\n",
    "\n",
    "# Rename certain columns\n",
    "df1.rename(columns={'If Affected 1-9% - Where did fire start?':'Fire Start Location',\n",
    "                    'If Affected 1-9% - What started fire?' : 'Fire Cause'}, inplace=True)\n",
    "\n",
    "df1.columns.tolist()"
   ]
  },
  {
   "cell_type": "code",
   "execution_count": 119,
   "metadata": {},
   "outputs": [
    {
     "data": {
      "text/plain": [
       "['Damage',\n",
       " 'Street Number',\n",
       " 'Street Name',\n",
       " 'Street Type',\n",
       " 'Street Suffix',\n",
       " 'City',\n",
       " 'State',\n",
       " 'Zip Code',\n",
       " 'Calfire Unit',\n",
       " 'County',\n",
       " 'Community',\n",
       " 'Battalion',\n",
       " 'Incident Name',\n",
       " 'Incident Num',\n",
       " 'Incident Start Date',\n",
       " 'Hazard Type',\n",
       " 'Where Fire Started On Structure',\n",
       " 'What Did Fire Start From',\n",
       " 'Defensive Actions',\n",
       " 'Structure Type',\n",
       " 'Structure Category',\n",
       " 'Number Of Unit Per Structure',\n",
       " 'No Out Buildings Damaged',\n",
       " 'No Out Buildings Not Damaged',\n",
       " 'Roof Construction',\n",
       " 'Eaves',\n",
       " 'Ventscreen',\n",
       " 'Exterior Siding',\n",
       " 'Window Pane',\n",
       " 'Deck Porch On Grade',\n",
       " 'Deck Porch Elevated',\n",
       " 'Patio Cover Carport',\n",
       " 'Fence Attached To Structure',\n",
       " 'Propane Tank Distance',\n",
       " 'Utility Misc Structure Distance',\n",
       " 'Fire Name',\n",
       " 'Apn',\n",
       " 'Assessed Improved Value',\n",
       " 'Year Built',\n",
       " 'Site Address',\n",
       " 'GLOBALID',\n",
       " 'Latitude',\n",
       " 'Longitude',\n",
       " 'geometry']"
      ]
     },
     "execution_count": 119,
     "metadata": {},
     "output_type": "execute_result"
    }
   ],
   "source": [
    "# Preprocess Columns in DF2\n",
    "\n",
    "df2.drop(columns=['OBJECTID'], inplace=True)\n",
    "\n",
    "rename_mapping = {\n",
    "    \"DAMAGE\": \"Damage\",\n",
    "    \"STREETNUMBER\": \"Street Number\",\n",
    "    \"STREETNAME\": \"Street Name\",\n",
    "    \"STREETTYPE\": \"Street Type\",\n",
    "    \"STREETSUFFIX\": \"Street Suffix\",\n",
    "    \"CITY\": \"City\",\n",
    "    \"STATE\": \"State\",\n",
    "    \"ZIPCODE\": \"Zip Code\",\n",
    "    \"CALFIREUNIT\": \"Calfire Unit\",\n",
    "    \"COUNTY\": \"County\",\n",
    "    \"COMMUNITY\": \"Community\",\n",
    "    \"BATTALION\": \"Battalion\",\n",
    "    \"INCIDENTNAME\": \"Incident Name\",\n",
    "    \"INCIDENTNUM\": \"Incident Num\",\n",
    "    \"INCIDENTSTARTDATE\": \"Incident Start Date\",\n",
    "    \"HAZARDTYPE\": \"Hazard Type\",\n",
    "    \"WHEREFIRESTARTEDONSTRUCTURE\": \"Where Fire Started On Structure\",\n",
    "    \"WHATDIDFIRESTARTFROM\": \"What Did Fire Start From\",\n",
    "    \"DEFENSIVEACTIONS\": \"Defensive Actions\",\n",
    "    \"STRUCTURETYPE\": \"Structure Type\",\n",
    "    \"STRUCTURECATEGORY\": \"Structure Category\",\n",
    "    \"NUMBEROFUNITPERSTRUCTURE\": \"Number Of Unit Per Structure\",\n",
    "    \"NOOUTBUILDINGSDAMAGED\": \"No Out Buildings Damaged\",\n",
    "    \"NOOUTBUILDINGSNOTDAMAGED\": \"No Out Buildings Not Damaged\",\n",
    "    \"ROOFCONSTRUCTION\": \"Roof Construction\",\n",
    "    \"EAVES\": \"Eaves\",\n",
    "    \"VENTSCREEN\": \"Ventscreen\",\n",
    "    \"EXTERIORSIDING\": \"Exterior Siding\",\n",
    "    \"WINDOWPANE\": \"Window Pane\",\n",
    "    \"DECKPORCHONGRADE\": \"Deck Porch On Grade\",\n",
    "    \"DECKPORCHELEVATED\": \"Deck Porch Elevated\",\n",
    "    \"PATIOCOVERCARPORT\": \"Patio Cover Carport\",\n",
    "    \"FENCEATTACHEDTOSTRUCTURE\": \"Fence Attached To Structure\",\n",
    "    \"PROPANETANKDISTANCE\": \"Propane Tank Distance\",\n",
    "    \"UTILITYMISCSTRUCTUREDISTANCE\": \"Utility Misc Structure Distance\",\n",
    "    \"FIRENAME\": \"Fire Name\",\n",
    "    \"APN\": \"Apn\",\n",
    "    \"ASSESSEDIMPROVEDVALUE\": \"Assessed Improved Value\",\n",
    "    \"YEARBUILT\": \"Year Built\",\n",
    "    \"SITEADDRESS\": \"Site Address\",\n",
    "    \"GLOBALID\": \"GLOBALID\",  \n",
    "    \"LATITUDE\": \"Latitude\",\n",
    "    \"LONGITUDE\": \"Longitude\",\n",
    "    \"GEOMETRY\": \"Geometry\"\n",
    "}\n",
    "\n",
    "df2.rename(columns=rename_mapping, inplace=True)\n",
    "df2.columns.tolist()"
   ]
  }
 ],
 "metadata": {
  "kernelspec": {
   "display_name": "base",
   "language": "python",
   "name": "python3"
  },
  "language_info": {
   "codemirror_mode": {
    "name": "ipython",
    "version": 3
   },
   "file_extension": ".py",
   "mimetype": "text/x-python",
   "name": "python",
   "nbconvert_exporter": "python",
   "pygments_lexer": "ipython3",
   "version": "3.12.4"
  }
 },
 "nbformat": 4,
 "nbformat_minor": 2
}
